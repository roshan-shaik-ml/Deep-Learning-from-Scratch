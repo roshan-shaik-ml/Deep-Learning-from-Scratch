{
  "nbformat": 4,
  "nbformat_minor": 0,
  "metadata": {
    "colab": {
      "provenance": [],
      "collapsed_sections": [],
      "authorship_tag": "ABX9TyNgO200o+TaEmbLw/JfjBLJ",
      "include_colab_link": true
    },
    "kernelspec": {
      "name": "python3",
      "display_name": "Python 3"
    },
    "language_info": {
      "name": "python"
    }
  },
  "cells": [
    {
      "cell_type": "markdown",
      "metadata": {
        "id": "view-in-github",
        "colab_type": "text"
      },
      "source": [
        "<a href=\"https://colab.research.google.com/github/roshan-shaik-ml/Deep-Learning-from-Scratch/blob/main/1.Foundations/Functions.ipynb\" target=\"_parent\"><img src=\"https://colab.research.google.com/assets/colab-badge.svg\" alt=\"Open In Colab\"/></a>"
      ]
    },
    {
      "cell_type": "code",
      "execution_count": 1,
      "metadata": {
        "id": "n61JpnXJ5so7"
      },
      "outputs": [],
      "source": [
        "import numpy as np"
      ]
    },
    {
      "cell_type": "code",
      "source": [
        "print(\"Python list operations:\")\n",
        "a = [1, 2, 3]\n",
        "b = [4, 5, 6]\n",
        "print(\"a+b:\", a+b)"
      ],
      "metadata": {
        "colab": {
          "base_uri": "https://localhost:8080/"
        },
        "id": "gl-feDqbGzc5",
        "outputId": "f1c00a66-2b8f-4f15-9120-18a4b5b9e0e6"
      },
      "execution_count": 2,
      "outputs": [
        {
          "output_type": "stream",
          "name": "stdout",
          "text": [
            "Python list operations:\n",
            "a+b: [1, 2, 3, 4, 5, 6]\n"
          ]
        }
      ]
    },
    {
      "cell_type": "code",
      "source": [
        "try:\n",
        "    print(a*b)\n",
        "except TypeError:\n",
        "    print(\"a*b has no meaning for python lists\")"
      ],
      "metadata": {
        "colab": {
          "base_uri": "https://localhost:8080/"
        },
        "id": "enK2axx-H8Tw",
        "outputId": "75b98c1b-ba76-4f6f-cd7d-36084aa09543"
      },
      "execution_count": 3,
      "outputs": [
        {
          "output_type": "stream",
          "name": "stdout",
          "text": [
            "a*b has no meaning for python lists\n"
          ]
        }
      ]
    },
    {
      "cell_type": "code",
      "source": [
        "print(\"numpy array operations:\")\n",
        "a = np.array([1, 2, 3])\n",
        "b = np.array([4, 5, 6])\n",
        "print(\"a+b:\", a+b)\n",
        "print(\"a*b\", a*b)"
      ],
      "metadata": {
        "colab": {
          "base_uri": "https://localhost:8080/"
        },
        "id": "3dRfU2rTIgrq",
        "outputId": "0b0ad8f0-20f5-44be-b0c8-a57e1bef1255"
      },
      "execution_count": 5,
      "outputs": [
        {
          "output_type": "stream",
          "name": "stdout",
          "text": [
            "numpy array operations:\n",
            "a+b: [5 7 9]\n",
            "a*b [ 4 10 18]\n"
          ]
        }
      ]
    },
    {
      "cell_type": "code",
      "source": [
        "print(\"a:\")\n",
        "print(a)\n",
        "print(\"a.sum(axis=0):\", a.sum(axis=0))\n",
        "print(\"a.sum(axis=1):\", a.sum(axis=1))"
      ],
      "metadata": {
        "id": "MT85Q0PyInYm"
      },
      "execution_count": null,
      "outputs": []
    }
  ]
}