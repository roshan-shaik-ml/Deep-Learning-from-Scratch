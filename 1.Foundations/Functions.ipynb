{
  "nbformat": 4,
  "nbformat_minor": 0,
  "metadata": {
    "colab": {
      "provenance": [],
      "collapsed_sections": [],
      "authorship_tag": "ABX9TyN0ZkNVFLVXcLDnDAIp+HTo",
      "include_colab_link": true
    },
    "kernelspec": {
      "name": "python3",
      "display_name": "Python 3"
    },
    "language_info": {
      "name": "python"
    }
  },
  "cells": [
    {
      "cell_type": "markdown",
      "metadata": {
        "id": "view-in-github",
        "colab_type": "text"
      },
      "source": [
        "<a href=\"https://colab.research.google.com/github/roshan-shaik-ml/Deep-Learning-from-Scratch/blob/main/1.Foundations/Functions.ipynb\" target=\"_parent\"><img src=\"https://colab.research.google.com/assets/colab-badge.svg\" alt=\"Open In Colab\"/></a>"
      ]
    },
    {
      "cell_type": "code",
      "execution_count": 34,
      "metadata": {
        "id": "n61JpnXJ5so7"
      },
      "outputs": [],
      "source": [
        "import numpy as np"
      ]
    },
    {
      "cell_type": "markdown",
      "source": [
        "### Code Caveat #1. Numpy"
      ],
      "metadata": {
        "id": "PQsKqErDJ0XN"
      }
    },
    {
      "cell_type": "code",
      "source": [
        "print(\"Python list operations:\")\n",
        "a = [1, 2, 3]\n",
        "b = [4, 5, 6]\n",
        "print(\"a+b:\", a+b)"
      ],
      "metadata": {
        "colab": {
          "base_uri": "https://localhost:8080/"
        },
        "id": "gl-feDqbGzc5",
        "outputId": "ff911e7d-e2a4-47fd-da11-4f045ed01024"
      },
      "execution_count": 35,
      "outputs": [
        {
          "output_type": "stream",
          "name": "stdout",
          "text": [
            "Python list operations:\n",
            "a+b: [1, 2, 3, 4, 5, 6]\n"
          ]
        }
      ]
    },
    {
      "cell_type": "code",
      "source": [
        "try:\n",
        "    print(a*b)\n",
        "except TypeError:\n",
        "    print(\"a*b has no meaning for python lists\")"
      ],
      "metadata": {
        "colab": {
          "base_uri": "https://localhost:8080/"
        },
        "id": "enK2axx-H8Tw",
        "outputId": "a6e5452c-d7c5-482f-9bb8-589e42756b18"
      },
      "execution_count": 36,
      "outputs": [
        {
          "output_type": "stream",
          "name": "stdout",
          "text": [
            "a*b has no meaning for python lists\n"
          ]
        }
      ]
    },
    {
      "cell_type": "code",
      "source": [
        "print(\"numpy array operations:\")\n",
        "a = np.array([1, 2, 3])\n",
        "b = np.array([4, 5, 6])\n",
        "print(\"a+b:\", a+b)\n",
        "print(\"a*b:\", a*b)"
      ],
      "metadata": {
        "colab": {
          "base_uri": "https://localhost:8080/"
        },
        "id": "3dRfU2rTIgrq",
        "outputId": "9bb02390-5949-4b2d-f826-93f50ea07227"
      },
      "execution_count": 37,
      "outputs": [
        {
          "output_type": "stream",
          "name": "stdout",
          "text": [
            "numpy array operations:\n",
            "a+b: [5 7 9]\n",
            "a*b: [ 4 10 18]\n"
          ]
        }
      ]
    },
    {
      "cell_type": "code",
      "source": [
        "a = np.array([[1, 2], [3, 4]])\n",
        "print(\"a:\")\n",
        "print(a)\n",
        "print(\"a.sum(axis=0):\", a.sum(axis=0))\n",
        "print(\"a.sum(axis=1):\", a.sum(axis=1))"
      ],
      "metadata": {
        "colab": {
          "base_uri": "https://localhost:8080/"
        },
        "id": "MT85Q0PyInYm",
        "outputId": "49c51ee7-bdd2-4d5b-8a3e-fd86860ea39a"
      },
      "execution_count": 38,
      "outputs": [
        {
          "output_type": "stream",
          "name": "stdout",
          "text": [
            "a:\n",
            "[[1 2]\n",
            " [3 4]]\n",
            "a.sum(axis=0): [4 6]\n",
            "a.sum(axis=1): [3 7]\n"
          ]
        }
      ]
    },
    {
      "cell_type": "code",
      "source": [
        "a = np.array([[1, 2, 3],\n",
        "              [4, 5, 6]])\n",
        "b= np.array([10, 20, 30])\n",
        "\n",
        "print(\"a+b:\\n\", a+b)"
      ],
      "metadata": {
        "colab": {
          "base_uri": "https://localhost:8080/"
        },
        "id": "97Q0ntFCJUnu",
        "outputId": "f25991fd-d9a0-4bdd-ff87-61c21ddffa3d"
      },
      "execution_count": 39,
      "outputs": [
        {
          "output_type": "stream",
          "name": "stdout",
          "text": [
            "a+b:\n",
            " [[11 22 33]\n",
            " [14 25 36]]\n"
          ]
        }
      ]
    },
    {
      "cell_type": "markdown",
      "source": [
        "### Code caveat #2. Numpy"
      ],
      "metadata": {
        "id": "NW3OwEHuJ-3Y"
      }
    },
    {
      "cell_type": "code",
      "source": [
        "from numpy import ndarray"
      ],
      "metadata": {
        "id": "o8PVSEgLKBYu"
      },
      "execution_count": 40,
      "outputs": []
    },
    {
      "cell_type": "code",
      "source": [
        "def square(x: ndarray):\n",
        "\n",
        "    ''' \n",
        "    Squares each element in the input array.\n",
        "    '''\n",
        "    return np.power(x, 2)"
      ],
      "metadata": {
        "id": "VmaibgmLKWmp"
      },
      "execution_count": 41,
      "outputs": []
    },
    {
      "cell_type": "code",
      "source": [
        "def leaky_relu(x: ndarray):\n",
        "\n",
        "    ''' \n",
        "    Apply \"Leaky ReLU function to each element in ndarray.\n",
        "    '''\n",
        "    return np.maximum(0.2 * x, x)"
      ],
      "metadata": {
        "id": "9_OacAlPLMYd"
      },
      "execution_count": 42,
      "outputs": []
    },
    {
      "cell_type": "code",
      "source": [
        "square_sample = np.arange(5)\n",
        "relu_sample = np.random.rand(3, 2)\n",
        "print(\"Square:\\n\", square(square_sample))\n",
        "print(\"Leaky ReLU:\\n\", leaky_relu(relu_sample))"
      ],
      "metadata": {
        "colab": {
          "base_uri": "https://localhost:8080/"
        },
        "id": "7Obn96n4Ld-j",
        "outputId": "737cb06a-d7cd-4c60-f3ff-88dc94c842a2"
      },
      "execution_count": 43,
      "outputs": [
        {
          "output_type": "stream",
          "name": "stdout",
          "text": [
            "Square:\n",
            " [ 0  1  4  9 16]\n",
            "Leaky ReLU:\n",
            " [[0.43659148 0.66408372]\n",
            " [0.84239643 0.45792103]\n",
            " [0.58696815 0.30490507]]\n"
          ]
        }
      ]
    }
  ]
}