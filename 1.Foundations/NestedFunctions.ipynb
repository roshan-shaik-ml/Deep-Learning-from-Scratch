{
  "nbformat": 4,
  "nbformat_minor": 0,
  "metadata": {
    "colab": {
      "provenance": [],
      "authorship_tag": "ABX9TyO40tU3ru2WiyafaqmSFtKk",
      "include_colab_link": true
    },
    "kernelspec": {
      "name": "python3",
      "display_name": "Python 3"
    },
    "language_info": {
      "name": "python"
    }
  },
  "cells": [
    {
      "cell_type": "markdown",
      "metadata": {
        "id": "view-in-github",
        "colab_type": "text"
      },
      "source": [
        "<a href=\"https://colab.research.google.com/github/roshan-shaik-ml/Deep-Learning-from-Scratch/blob/main/1.Foundations/NestedFunctions.ipynb\" target=\"_parent\"><img src=\"https://colab.research.google.com/assets/colab-badge.svg\" alt=\"Open In Colab\"/></a>"
      ]
    },
    {
      "cell_type": "code",
      "execution_count": 6,
      "metadata": {
        "id": "xn80Hsk2QMm8"
      },
      "outputs": [],
      "source": [
        "from typing import List, Callable\n",
        "from numpy import ndarray"
      ]
    },
    {
      "cell_type": "code",
      "source": [
        "# A function take in an ndarray as an argument and produces an ndarray\n",
        "Array_Function = Callable[[ndarray], ndarray]"
      ],
      "metadata": {
        "id": "Qx-f_bt4QTZb"
      },
      "execution_count": 7,
      "outputs": []
    },
    {
      "cell_type": "code",
      "source": [
        "# A chain is a list of functions\n",
        "Chain = List[Array_Function]"
      ],
      "metadata": {
        "id": "BTJ3X5AZQVHn"
      },
      "execution_count": 8,
      "outputs": []
    },
    {
      "cell_type": "code",
      "source": [
        "# lets define how data goes through a chain, first of length 2\n",
        "\n",
        "def chain_length_2(chain: Chain, a: ndarray) -> ndarray:\n",
        "\n",
        "    '''\n",
        "    Evaluates two functions in a row, in a \"Chain\",\n",
        "    '''\n",
        "\n",
        "    assert len(chain) == 2, \\\n",
        "    \"length of input 'chain' should be 2\"\n",
        "    f1 = chain[0]\n",
        "    f2 = chain[1]\n",
        "\n",
        "    return f2(f1(x))"
      ],
      "metadata": {
        "id": "SI1C-qPPQamn"
      },
      "execution_count": 10,
      "outputs": []
    }
  ]
}