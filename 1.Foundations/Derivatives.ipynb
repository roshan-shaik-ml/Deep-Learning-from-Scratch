{
  "nbformat": 4,
  "nbformat_minor": 0,
  "metadata": {
    "colab": {
      "provenance": [],
      "authorship_tag": "ABX9TyNRatY3V+RZIT0Sa33l28lT",
      "include_colab_link": true
    },
    "kernelspec": {
      "name": "python3",
      "display_name": "Python 3"
    },
    "language_info": {
      "name": "python"
    }
  },
  "cells": [
    {
      "cell_type": "markdown",
      "metadata": {
        "id": "view-in-github",
        "colab_type": "text"
      },
      "source": [
        "<a href=\"https://colab.research.google.com/github/roshan-shaik-ml/Deep-Learning-from-Scratch/blob/main/1.Foundations/Derivatives.ipynb\" target=\"_parent\"><img src=\"https://colab.research.google.com/assets/colab-badge.svg\" alt=\"Open In Colab\"/></a>"
      ]
    },
    {
      "cell_type": "code",
      "execution_count": 2,
      "metadata": {
        "id": "hdABDGFVKqVx"
      },
      "outputs": [],
      "source": [
        "from typing import Callable\n",
        "from numpy import ndarray\n",
        "import numpy as np"
      ]
    },
    {
      "cell_type": "code",
      "source": [
        "def deriv(func: Callable[[ndarray], ndarray],\n",
        "          input_: ndarray,\n",
        "          delta: float = 0.001) -> ndarray:\n",
        "    '''\n",
        "    Evaluates the derivative of a function\n",
        "    \"func\" at every element in the \"input_\" array.\n",
        "\n",
        "    slope = ( f(a + delta) - f(a - delta) ) / 2 * delta\n",
        "    '''\n",
        "\n",
        "    return (func(input_ + delta) - func(input_ - delta)) / (2 * delta)"
      ],
      "metadata": {
        "id": "JmY3LgwnK400"
      },
      "execution_count": 3,
      "outputs": []
    }
  ]
}